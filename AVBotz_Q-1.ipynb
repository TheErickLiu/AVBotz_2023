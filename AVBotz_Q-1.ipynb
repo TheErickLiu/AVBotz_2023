{
 "cells": [
  {
   "cell_type": "markdown",
   "metadata": {},
   "source": [
    "**Beginning Thought Process for Solution /  Pseudocode:**\n",
    " \n",
    "To find the center and orientation of the object, I needed to identify the object in the image and locate the center's coordinates and what direction it was pointing in. First, I would use a color mask to filter out every color except the color of the object. In addition, I took a look at OpenCV's [cascade classfier](https://towardsdatascience.com/how-to-detect-objects-in-real-time-using-opencv-and-python-c1ba0c2c69c0) and the superior deep learning model [YOLOv5](https://medium.com/mlearning-ai/detecting-objects-with-yolov5-opencv-python-and-c-c7cf13d1483c). Using object detection by shape would be the ideal solution, but I would not do this for a multitude of reasons; there is no pre-trained model for the pathmarker, the amount of work needed to implement this is not worth the results, and the color mask returned reasonably good result. Second, I would use Open CV object detection with contours to find the object's center and orientation."
   ]
  },
  {
   "cell_type": "markdown",
   "metadata": {},
   "source": [
    "\n",
    "**Research for How to Implement Solution**:\n",
    "\n",
    "Finding how to make a color mask was quite simple; I just had to search up some example code. I found [Color Filtering OpenCV Python Tutorial](https://pythonprogramming.net/color-filter-python-opencv-tutorial/) to be quite helpful. There was some difficulty in finding the HSV value for the bounds, but I found a [StackOverflow conversation ](https://stackoverflow.com/questions/10948589/choosing-the-correct-upper-and-lower-hsv-boundaries-for-color-detection-withcv)that help out with my predicament. Next was finding the largest contour with the matching color in the image, which should be the object. To help with determining the real orientation of the object, I looked at [How to Determine the Orientation of an Object Using OpenCV. ](https://automaticaddison.com/how-to-determine-the-orientation-of-an-object-using-opencv/)"
   ]
  },
  {
   "cell_type": "code",
   "execution_count": 2,
   "metadata": {},
   "outputs": [
    {
     "name": "stdout",
     "output_type": "stream",
     "text": [
      "Expected output for pathmarker_1.png: (288, 172, -22)\n",
      "Calculated : (287, 172, -26)\n",
      "Expected output for pathmarker_2.png: (450, 337, -47)\n",
      "Calculated : (432, 328, -49)\n",
      "Expected output for pathmarker_3.png: (358, 171, 77)\n",
      "Calculated : (358, 171, 88)\n",
      "Expected output for pathmarker_4.png: (164, 127, -73)\n",
      "Calculated : (160, 135, -79)\n"
     ]
    }
   ],
   "source": [
    "import cv2\n",
    "import numpy as np\n",
    "from typing import Tuple\n",
    "\n",
    "def pathmarker_info(image_path: str) -> Tuple[int, int, int]:\n",
    "\n",
    "    # read in image and convert to hsv colorspace\n",
    "    img = cv2.imread(image_path)\n",
    "    hsv = cv2.cvtColor(img, cv2.COLOR_BGR2HSV)\n",
    "\n",
    "    ## removes all colors but colors in lower bound and upper bounds\n",
    "    lower_bound = (2, 100, 20)\n",
    "    upper_bound = (15, 255, 255)\n",
    "    mask = cv2.inRange(hsv, lower_bound, upper_bound)\n",
    "\n",
    "    # cv2.RETR_EXTERNAL: Gives only extreme outer contours / the ones that matter\n",
    "    # cv2.CHAIN_APPROX_SIMPLE: compresses horizontal, vertical, and diagonal segments and leaves only their end points\n",
    "    contours, _ = cv2.findContours(mask.copy(), cv2.RETR_EXTERNAL, cv2.CHAIN_APPROX_SIMPLE)\n",
    "\n",
    "    # find the largerst contour with a matching color\n",
    "    largest, idx = -1, -1\n",
    "    for i, c in enumerate(contours):\n",
    "        if cv2.contourArea(c) > largest:\n",
    "            largest, idx = cv2.contourArea(c), i\n",
    "\n",
    "    # center, width and height helps find corrent angle\n",
    "    (xPixelCenter, yPixelCenter), (width, height), angle = cv2.minAreaRect(contours[idx])\n",
    "\n",
    "    if width > height:\n",
    "        angle = angle - 90\n",
    "\n",
    "    return (int(xPixelCenter), int(yPixelCenter), int(angle))\n",
    "\n",
    "\n",
    "def run(): # Helps compare expected with calculated\n",
    "    \n",
    "    #Test cases\n",
    "    expected_pathmarker_info = [\n",
    "        (288, 172, -22), \n",
    "        (450, 337, -47), \n",
    "        (358, 171, 77),\n",
    "        (164, 127, -73)]\n",
    "\n",
    "    #Runs each case through algorithm\n",
    "    for i in range(len(expected_pathmarker_info)):\n",
    "        print (f'Expected output for pathmarker_{i+1}.png: {expected_pathmarker_info[i]}')\n",
    "        result = pathmarker_info(f\"images_q1/pathmarker_{i+1}.png\")\n",
    "        print (f'Calculated : {result}')\n",
    "\n",
    "\n",
    "run()"
   ]
  }
 ],
 "metadata": {
  "kernelspec": {
   "display_name": "Python 3.10.6 64-bit",
   "language": "python",
   "name": "python3"
  },
  "language_info": {
   "codemirror_mode": {
    "name": "ipython",
    "version": 3
   },
   "file_extension": ".py",
   "mimetype": "text/x-python",
   "name": "python",
   "nbconvert_exporter": "python",
   "pygments_lexer": "ipython3",
   "version": "3.10.6"
  },
  "orig_nbformat": 4,
  "vscode": {
   "interpreter": {
    "hash": "aee8b7b246df8f9039afb4144a1f6fd8d2ca17a180786b69acc140d282b71a49"
   }
  }
 },
 "nbformat": 4,
 "nbformat_minor": 2
}
