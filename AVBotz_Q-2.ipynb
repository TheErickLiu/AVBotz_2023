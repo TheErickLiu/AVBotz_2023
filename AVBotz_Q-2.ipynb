{
 "cells": [
  {
   "cell_type": "markdown",
   "metadata": {},
   "source": [
    "**Research for How to Implement Solution**:\n",
    "\n",
    "On Wikipedia, I found lots of good models to figure out where to start, mainly [Angle of View](https://en.wikipedia.org/wiki/Angle_of_view). \n",
    "\n",
    "First, I need to find the distance of the lens to the object. This can by found by dividing the Y dimension of the image in meters by the tangent of half of the vertical field of view. To find the offset, I need to translate all of the coordinates in the image to meters. Afterwards, it can be found by subtracting the object center  by the image center coordinates. To calculate the yaw and pitch, I use the inverse tangent of the offset divided by the distance to find the angle.\n",
    "\n",
    "From the model below, I have derived the formulas needed to get the distance, offsets, and yaw and pitch. "
   ]
  },
  {
   "cell_type": "code",
   "execution_count": 2,
   "metadata": {},
   "outputs": [
    {
     "name": "stdout",
     "output_type": "stream",
     "text": [
      "\n",
      "Expected output for (512, 341, 300, 150, 8, 8.8, 1524, 80, 77.3, 62): (8, 4, 6, 1, 0)\n",
      "Calculated: (7.82636346254104, 4.132111134128282, 5.405621365661543, 0.7430121352548786, -0.39052500000000023)\n",
      "\n",
      "Expected output for (512, 384, 200, 100, 8, 8.8, 250, 100, 135, 122): (-28, 41, 1, 0, -1)\n",
      "Calculated: (-27.83894716546775, 40.84143230469546, 0.26606834469732915, -0.14051314512516122, -0.22999999999999998)\n",
      "\n",
      "Expected output for (5472, 3648, 2000, 150, 8, 8.8, 1524, 80, 77.3, 62): (-12, 29, 63, -13, -31)\n",
      "Calculated: (-12.140953695817277, 28.874439525681517, 57.82905202912994, -12.440715762568495, -31.889700000000005)\n",
      "\n",
      "Expected output for (5472, 3648, 3583, 4014, 8, 8.8, 1219.2, 1000, 77.3, 62): (14, -36, 4, 1, 2)\n",
      "Calculated: (13.905341460603939, -35.80773710248819, 3.7010593298643153, 0.916285760947436, 2.670048)\n"
     ]
    }
   ],
   "source": [
    "import math\n",
    "import sys\n",
    "\n",
    "def pixel_to_meter(p: float, scale: float) -> float:\n",
    "    return (p * scale) / 1000 # pixels to mm to meters\n",
    "\n",
    "def calc_dist(vfov_height: float, vfov: float) -> float:\n",
    "    ''' half of vertical POV height divided by tangent of half of vfov '''\n",
    "\n",
    "    r = math.radians(vfov/2)\n",
    "    t = math.tan(r)\n",
    "    d = (vfov_height/2) / t\n",
    "\n",
    "    return d\n",
    "\n",
    "def angle_of_points(p1: list, p2: list, dist: float) -> tuple:\n",
    "    ''' inverse of dist between 2 points over dist to object, for yaw and pitch '''\n",
    "\n",
    "    yaw_r = math.atan((p1[0] - p2[0]) / dist)\n",
    "    yaw_d = math.degrees(yaw_r)\n",
    "\n",
    "    pitch_r = math.atan((p2[1] - p1[1]) / dist)\n",
    "    pitch_d = math.degrees(pitch_r)\n",
    "\n",
    "    return yaw_d, pitch_d\n",
    "\n",
    "\n",
    "def align_to_target(align_in: tuple) -> tuple:\n",
    "    ''' main function to take input align_in and calculate align_out '''\n",
    "\n",
    "    imgDimX, imgDimY, centerX, centerY, focalLength, sensorSize, objRealHeight, objImgHeight, hfov, vfov = align_in\n",
    "    relativeYaw, relativePitch, dist, relativeYOffset, relativeZOffset = 0, 0, 0, 0, 0 \n",
    "\n",
    "    # height length to pixel scale. Horizontal scale may be different.\n",
    "    vertical_scale = objRealHeight/float(objImgHeight)\n",
    "\n",
    "    # convert heights based on pixel scale \n",
    "    imgDimRealY = pixel_to_meter(imgDimY, vertical_scale)\n",
    "    imgCenterY = imgDimRealY / 2\n",
    "    objCenterY = pixel_to_meter(centerY, vertical_scale) \n",
    "\n",
    "    # calculate distance \n",
    "    dist = calc_dist(imgDimRealY, vfov) \n",
    "\n",
    "    # converts pixels to meters for widths based on hfov and dist\n",
    "    hfov_width = math.tan(math.radians(hfov/2)) * dist * 2\n",
    "    imgCenterX = hfov_width / 2 \n",
    "    objCenterX = centerX/imgDimX * hfov_width \n",
    "    \n",
    "    # difference of how off it is from middle\n",
    "    relativeYOffset = objCenterX - imgCenterX\n",
    "    relativeZOffset = objCenterY - imgCenterY\n",
    "\n",
    "    # calculate yaw and pitch based on object center and img center\n",
    "    relativeYaw, relativePitch = angle_of_points([objCenterX, objCenterY], [imgCenterX, imgCenterY], dist)\n",
    "\n",
    "    return (relativeYaw, relativePitch, dist, relativeYOffset, relativeZOffset)\n",
    "\n",
    "\n",
    "def run():\n",
    "    \n",
    "    # Test Cases\n",
    "    align_in = [\n",
    "     (512, 341, 300, 150, 8, 8.8, 1524, 80, 77.3, 62),\n",
    "     (512, 384, 200, 100, 8, 8.8, 250, 100, 135, 122),\n",
    "     (5472, 3648, 2000, 150, 8, 8.8, 1524, 80, 77.3, 62),\n",
    "     (5472, 3648, 3583, 4014, 8, 8.8, 1219.2, 1000, 77.3, 62)\n",
    "     ]\n",
    "\n",
    "    # expected align.out\n",
    "    align_out = [\n",
    "        (8, 4, 6, 1, 0), \n",
    "        (-28, 41, 1, 0, -1), \n",
    "        (-12, 29, 63, -13, -31),\n",
    "        (14, -36, 4, 1, 2)\n",
    "        ]\n",
    "\n",
    "    # Runs for each test case\n",
    "    for i in range(len(align_in)):\n",
    "        print (f'\\nExpected output for {align_in[i]}: {align_out[i]}')\n",
    "        result = align_to_target(align_in[i])\n",
    "        print (f'Calculated: {result}')\n",
    "\n",
    "\n",
    "run()"
   ]
  }
 ],
 "metadata": {
  "kernelspec": {
   "display_name": "Python 3.10.6 64-bit",
   "language": "python",
   "name": "python3"
  },
  "language_info": {
   "codemirror_mode": {
    "name": "ipython",
    "version": 3
   },
   "file_extension": ".py",
   "mimetype": "text/x-python",
   "name": "python",
   "nbconvert_exporter": "python",
   "pygments_lexer": "ipython3",
   "version": "3.10.6"
  },
  "orig_nbformat": 4,
  "vscode": {
   "interpreter": {
    "hash": "aee8b7b246df8f9039afb4144a1f6fd8d2ca17a180786b69acc140d282b71a49"
   }
  }
 },
 "nbformat": 4,
 "nbformat_minor": 2
}
