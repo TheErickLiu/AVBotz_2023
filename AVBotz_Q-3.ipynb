{
 "cells": [
  {
   "cell_type": "markdown",
   "metadata": {},
   "source": [
    "**Beginning Thought Process for Solution /  Pseudocode:**\n",
    "\n",
    "Since I have never worked with sound or pressure data before, I was in the dark for where to start. After a solid day of researching and figuring out what to do, I had came up with a plan. First, I needed to normalize all of the pressure data from the three hydrophones so I could do the Fourier transform. With the phase from the most significant signal, we can find what hydrophone picked up the pinger first, since each will have a different phase. We can determine what general area or range that source is in with the phases. To find the source accurately, we can find what fraction of the range that it is, such as 1/3, and then multiply it by the size of the range to get the degree that the source is at."
   ]
  },
  {
   "cell_type": "markdown",
   "metadata": {},
   "source": [
    "**Research for How to Implement Solution**:\n",
    "\n",
    "I took a look into general information about [sound wave phase](https://dosits.org/science/advanced-topics/phase/) and [audio analysis.](https://towardsdatascience.com/understanding-audio-data-fourier-transform-fft-spectrogram-and-speech-recognition-a4072d228520) To illustrate the relative areas for finding the exact degree, I created this model:\n",
    "\n",
    "![](six_area_model.PNG)"
   ]
  },
  {
   "cell_type": "code",
   "execution_count": 1,
   "metadata": {},
   "outputs": [
    {
     "name": "stdout",
     "output_type": "stream",
     "text": [
      "Expected output for audio_1.in: -63\n",
      "Calculated : -67\n",
      "Expected output for audio_2.in: 146\n",
      "Calculated : 150\n",
      "Expected output for audio_3.in: -158\n",
      "Calculated : -159\n"
     ]
    }
   ],
   "source": [
    "import numpy as np\n",
    "import scipy\n",
    "import math\n",
    "\n",
    "def signal_process(samples):\n",
    "    '''normalizes pressure data to [-1, 1] and run fft.'''\n",
    "\n",
    "    max_value = np.max(samples)\n",
    "    min_value = np.min(samples)\n",
    "\n",
    "    mid, halfrange = (max_value + min_value) / 2, (max_value - min_value) / 2  \n",
    "    normalized = (samples - mid) / halfrange\n",
    "\n",
    "    return scipy.fft.fft(normalized)\n",
    "\n",
    "\n",
    "def calc_angle(p1: float, p2: float, p3: float) -> int:\n",
    "    ''' Calculate angle for each case '''\n",
    "\n",
    "    if (p1 == p2 == p3):\n",
    "        raise ValueError(f\"Equal phases {p1}\")\n",
    "\n",
    "    # top left upper 45 degree octant\n",
    "    if p1 >= p2 >= p3:\n",
    "        result = -45 * (p1 - p2) / (p1 - p3)\n",
    "    # top left lower 45 degree octant\n",
    "    elif p1 >= p3 >= p2:\n",
    "        result = -45 - 45 * (p1 - p3) / (p1 - p2)\n",
    "    # upper right 90 quadrant\n",
    "    elif p2 >= p1 >= p3:\n",
    "        result = 90 * (p2 - p1)/(p2 - p3)\n",
    "    # bottom right upper 45 degree octant\n",
    "    elif p2 >= p3 >= p1:\n",
    "        result = 90 + 45 * (p2 - p3) / (p2 - p1)\n",
    "    # bottom left 90 quadrant\n",
    "    elif p3 >= p1 >= p2:\n",
    "        result = -90 - 90 * (p3 - p1) / (p3 - p2)\n",
    "    # bottom right lower 45 degree octant\n",
    "    elif p3 >= p2 >= p1:\n",
    "        result = 135 + 45 * (p3 - p2) / (p3 - p1)\n",
    "    \n",
    "    return int(result)  \n",
    "\n",
    "\n",
    "def angle_to_pinger(audio_file: str) -> int:\n",
    "\n",
    "     # seperates into 3 columns for each hydrophone\n",
    "    raw = np.loadtxt(audio_file, delimiter=';')\n",
    "    phases = []\n",
    "\n",
    "    for i in range(3):\n",
    "        \n",
    "        # gets index of largest / most significant frequency signal\n",
    "        fft = signal_process(raw[:, i]) \n",
    "        fft_max = np.max(abs(fft))\n",
    "        index = np.argwhere(abs(fft)[:400] == fft_max)\n",
    "\n",
    "        # puts phases of each hydrophone into list\n",
    "        angle = np.angle(fft[index], deg=True)[0][0]\n",
    "        angle = (angle + 360) % 360\n",
    "        phases.append(angle) \n",
    "\n",
    "    return calc_angle(phases[0], phases[1], phases[2])\n",
    "\n",
    "\n",
    "def run():\n",
    "    expected_angles = [-63, 146, -158]\n",
    "\n",
    "    # Run test cases\n",
    "    for i in range(len(expected_angles)):\n",
    "        print (f'Expected output for audio_{i+1}.in: {expected_angles[i]}')\n",
    "        print (f'Calculated : {angle_to_pinger(f\"audios_q3/audio_{i+1}.in.txt\")}')\n",
    "    \n",
    "run()"
   ]
  }
 ],
 "metadata": {
  "kernelspec": {
   "display_name": "Python 3.10.6 64-bit",
   "language": "python",
   "name": "python3"
  },
  "language_info": {
   "codemirror_mode": {
    "name": "ipython",
    "version": 3
   },
   "file_extension": ".py",
   "mimetype": "text/x-python",
   "name": "python",
   "nbconvert_exporter": "python",
   "pygments_lexer": "ipython3",
   "version": "3.10.6"
  },
  "orig_nbformat": 4,
  "vscode": {
   "interpreter": {
    "hash": "aee8b7b246df8f9039afb4144a1f6fd8d2ca17a180786b69acc140d282b71a49"
   }
  }
 },
 "nbformat": 4,
 "nbformat_minor": 2
}
